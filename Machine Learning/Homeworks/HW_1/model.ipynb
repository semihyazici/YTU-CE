{
 "cells": [
  {
   "cell_type": "code",
   "execution_count": 1,
   "id": "5b4772be",
   "metadata": {},
   "outputs": [],
   "source": [
    "import pandas as pd\n",
    "import numpy as np\n",
    "import matplotlib.pyplot as plt\n",
    "\n",
    "from sklearn.model_selection import train_test_split\n",
    "from sklearn.naive_bayes import MultinomialNB\n",
    "from sklearn.neighbors import KNeighborsClassifier\n",
    "from sklearn.tree import DecisionTreeClassifier \n",
    "\n",
    "from sklearn.metrics import confusion_matrix,classification_report\n",
    "from sklearn.utils.class_weight import compute_class_weight\n",
    "\n",
    "import torch\n",
    "import torch.nn as nn\n",
    "import torch.nn.functional as F\n",
    "from tqdm import tqdm\n",
    "\n",
    "\n",
    "import warnings\n",
    "warnings.filterwarnings('ignore') "
   ]
  },
  {
   "cell_type": "markdown",
   "id": "696e2ced",
   "metadata": {},
   "source": [
    "# Preprocess"
   ]
  },
  {
   "cell_type": "code",
   "execution_count": 7,
   "id": "1261dfa3",
   "metadata": {},
   "outputs": [],
   "source": [
    "data = pd.read_csv(\"data.csv\").sample(1000)"
   ]
  },
  {
   "cell_type": "code",
   "execution_count": 8,
   "id": "1dbf02e2",
   "metadata": {},
   "outputs": [],
   "source": [
    "train_val,test = train_test_split(data,test_size=.3,random_state=51,shuffle=True)\n",
    "### train daha sonra train-validation olarak ayrılacaktır."
   ]
  },
  {
   "cell_type": "code",
   "execution_count": 9,
   "id": "0bd436eb",
   "metadata": {},
   "outputs": [],
   "source": [
    "def preprocess(data):\n",
    "    \n",
    "    data.drop('customer_id',axis=1,inplace=True)\n",
    "    data.country.replace({\"France\":0,\"Spain\":1,\"Germany\":2},inplace=True)\n",
    "    data.gender.replace({\"Female\":0,\"Male\":1},inplace=True)\n",
    "    age_groups = [[18,34],[35,46],[47,56],[57,65],[66,74],[75,200]]\n",
    "\n",
    "    for i,group in enumerate(age_groups):\n",
    "        data['age'].loc[(data['age'] >= group[0]) &( (data['age']) <= group[1])] = i \n",
    "    \n",
    "    balance_mean = int(data.balance.unique().mean())\n",
    "    balance_groups = [[0,10000],[10001,balance_mean],[balance_mean+1,10e+9]]\n",
    "\n",
    "    for i,group in enumerate(balance_groups):\n",
    "        data['balance'].loc[(data['balance'] >= group[0]) &( (data['balance']) <= group[1])] = i \n",
    "\n",
    "    income_groups = [[0,1045*12],[(1045*12)+1,4125*12],\n",
    "                     [(4125*12)+1,12745*12],[(12745*12)+1,10e+9]] # low/lower-middle/upper-middle/high income groups\n",
    "    for i,group in enumerate(income_groups):\n",
    "        data['estimated_salary'].loc[(data['estimated_salary'] >= group[0]) &( (data['estimated_salary']) <= group[1])] = i \n",
    "\n",
    "        \n",
    "    unique_vals,counts = np.unique(data.credit_score,return_counts = True)\n",
    "    credit_score_mean = unique_vals.mean()\n",
    "    data['credit_score'].loc[data[\"credit_score\"] <= credit_score_mean] = 0 \n",
    "    data['credit_score'].loc[data[\"credit_score\"] > credit_score_mean] = 1\n",
    "    \n",
    "    data['balance'] = data['balance'].astype(int)\n",
    "    data['estimated_salary'] = data['estimated_salary'].astype(int)\n",
    "    \n",
    "    return np.array(data)"
   ]
  },
  {
   "cell_type": "code",
   "execution_count": 10,
   "id": "b66b200e",
   "metadata": {},
   "outputs": [],
   "source": [
    "train_val_dataset = preprocess(train_val)\n",
    "test_dataset = preprocess(test)"
   ]
  },
  {
   "cell_type": "code",
   "execution_count": 11,
   "id": "b92876e2",
   "metadata": {},
   "outputs": [],
   "source": [
    "train,val = train_test_split(train_val_dataset,test_size=3/7,random_state=51,shuffle=True)\n"
   ]
  },
  {
   "cell_type": "code",
   "execution_count": 12,
   "id": "655556a0",
   "metadata": {},
   "outputs": [],
   "source": [
    "x_train,y_train = train[:,:-1],train[:,-1]\n",
    "x_val,y_val = val[:,:-1],val[:,-1]"
   ]
  },
  {
   "cell_type": "code",
   "execution_count": 13,
   "id": "d5e08e33",
   "metadata": {},
   "outputs": [],
   "source": [
    "class Categorizer():\n",
    "    \n",
    "    def __init__(self,n_classes):\n",
    "        self.n_classes = n_classes\n",
    "        \n",
    "    def _make_disjoint_categ(self,data):\n",
    "        \n",
    "        disjoint = [nn.functional.one_hot(torch.tensor((data[:,idx])),self.n_classes[idx]) for idx in range(data.shape[1])]        \n",
    "        return disjoint\n",
    "    \n",
    "    def __call__(self,data):\n",
    "        \n",
    "        disjoint = self._make_disjoint_categ(data)\n",
    "        return torch.cat(disjoint,dim = 1).to(dtype = torch.float32)\n",
    "        \n",
    "        "
   ]
  },
  {
   "cell_type": "code",
   "execution_count": 14,
   "id": "61a83249",
   "metadata": {},
   "outputs": [],
   "source": [
    "categorizer = Categorizer(x_train.max(axis=0)+1)\n",
    "x_train_one_hot = categorizer(x_train)\n",
    "x_val_one_hot = categorizer(x_val)"
   ]
  },
  {
   "cell_type": "markdown",
   "id": "d55a8968",
   "metadata": {},
   "source": [
    "# Models"
   ]
  },
  {
   "cell_type": "markdown",
   "id": "3fd62433",
   "metadata": {},
   "source": [
    "## Naive Bayes"
   ]
  },
  {
   "cell_type": "code",
   "execution_count": 15,
   "id": "85f2f1ac",
   "metadata": {},
   "outputs": [
    {
     "data": {
      "text/html": [
       "<style>#sk-container-id-1 {color: black;background-color: white;}#sk-container-id-1 pre{padding: 0;}#sk-container-id-1 div.sk-toggleable {background-color: white;}#sk-container-id-1 label.sk-toggleable__label {cursor: pointer;display: block;width: 100%;margin-bottom: 0;padding: 0.3em;box-sizing: border-box;text-align: center;}#sk-container-id-1 label.sk-toggleable__label-arrow:before {content: \"▸\";float: left;margin-right: 0.25em;color: #696969;}#sk-container-id-1 label.sk-toggleable__label-arrow:hover:before {color: black;}#sk-container-id-1 div.sk-estimator:hover label.sk-toggleable__label-arrow:before {color: black;}#sk-container-id-1 div.sk-toggleable__content {max-height: 0;max-width: 0;overflow: hidden;text-align: left;background-color: #f0f8ff;}#sk-container-id-1 div.sk-toggleable__content pre {margin: 0.2em;color: black;border-radius: 0.25em;background-color: #f0f8ff;}#sk-container-id-1 input.sk-toggleable__control:checked~div.sk-toggleable__content {max-height: 200px;max-width: 100%;overflow: auto;}#sk-container-id-1 input.sk-toggleable__control:checked~label.sk-toggleable__label-arrow:before {content: \"▾\";}#sk-container-id-1 div.sk-estimator input.sk-toggleable__control:checked~label.sk-toggleable__label {background-color: #d4ebff;}#sk-container-id-1 div.sk-label input.sk-toggleable__control:checked~label.sk-toggleable__label {background-color: #d4ebff;}#sk-container-id-1 input.sk-hidden--visually {border: 0;clip: rect(1px 1px 1px 1px);clip: rect(1px, 1px, 1px, 1px);height: 1px;margin: -1px;overflow: hidden;padding: 0;position: absolute;width: 1px;}#sk-container-id-1 div.sk-estimator {font-family: monospace;background-color: #f0f8ff;border: 1px dotted black;border-radius: 0.25em;box-sizing: border-box;margin-bottom: 0.5em;}#sk-container-id-1 div.sk-estimator:hover {background-color: #d4ebff;}#sk-container-id-1 div.sk-parallel-item::after {content: \"\";width: 100%;border-bottom: 1px solid gray;flex-grow: 1;}#sk-container-id-1 div.sk-label:hover label.sk-toggleable__label {background-color: #d4ebff;}#sk-container-id-1 div.sk-serial::before {content: \"\";position: absolute;border-left: 1px solid gray;box-sizing: border-box;top: 0;bottom: 0;left: 50%;z-index: 0;}#sk-container-id-1 div.sk-serial {display: flex;flex-direction: column;align-items: center;background-color: white;padding-right: 0.2em;padding-left: 0.2em;position: relative;}#sk-container-id-1 div.sk-item {position: relative;z-index: 1;}#sk-container-id-1 div.sk-parallel {display: flex;align-items: stretch;justify-content: center;background-color: white;position: relative;}#sk-container-id-1 div.sk-item::before, #sk-container-id-1 div.sk-parallel-item::before {content: \"\";position: absolute;border-left: 1px solid gray;box-sizing: border-box;top: 0;bottom: 0;left: 50%;z-index: -1;}#sk-container-id-1 div.sk-parallel-item {display: flex;flex-direction: column;z-index: 1;position: relative;background-color: white;}#sk-container-id-1 div.sk-parallel-item:first-child::after {align-self: flex-end;width: 50%;}#sk-container-id-1 div.sk-parallel-item:last-child::after {align-self: flex-start;width: 50%;}#sk-container-id-1 div.sk-parallel-item:only-child::after {width: 0;}#sk-container-id-1 div.sk-dashed-wrapped {border: 1px dashed gray;margin: 0 0.4em 0.5em 0.4em;box-sizing: border-box;padding-bottom: 0.4em;background-color: white;}#sk-container-id-1 div.sk-label label {font-family: monospace;font-weight: bold;display: inline-block;line-height: 1.2em;}#sk-container-id-1 div.sk-label-container {text-align: center;}#sk-container-id-1 div.sk-container {/* jupyter's `normalize.less` sets `[hidden] { display: none; }` but bootstrap.min.css set `[hidden] { display: none !important; }` so we also need the `!important` here to be able to override the default hidden behavior on the sphinx rendered scikit-learn.org. See: https://github.com/scikit-learn/scikit-learn/issues/21755 */display: inline-block !important;position: relative;}#sk-container-id-1 div.sk-text-repr-fallback {display: none;}</style><div id=\"sk-container-id-1\" class=\"sk-top-container\"><div class=\"sk-text-repr-fallback\"><pre>MultinomialNB()</pre><b>In a Jupyter environment, please rerun this cell to show the HTML representation or trust the notebook. <br />On GitHub, the HTML representation is unable to render, please try loading this page with nbviewer.org.</b></div><div class=\"sk-container\" hidden><div class=\"sk-item\"><div class=\"sk-estimator sk-toggleable\"><input class=\"sk-toggleable__control sk-hidden--visually\" id=\"sk-estimator-id-1\" type=\"checkbox\" checked><label for=\"sk-estimator-id-1\" class=\"sk-toggleable__label sk-toggleable__label-arrow\">MultinomialNB</label><div class=\"sk-toggleable__content\"><pre>MultinomialNB()</pre></div></div></div></div></div>"
      ],
      "text/plain": [
       "MultinomialNB()"
      ]
     },
     "execution_count": 15,
     "metadata": {},
     "output_type": "execute_result"
    }
   ],
   "source": [
    "nb_model = MultinomialNB()\n",
    "nb_model.fit(x_train_one_hot, (y_train))"
   ]
  },
  {
   "cell_type": "code",
   "execution_count": 66,
   "id": "36205e27",
   "metadata": {},
   "outputs": [
    {
     "name": "stdout",
     "output_type": "stream",
     "text": [
      "              precision    recall  f1-score   support\n",
      "\n",
      "           0       0.89      0.95      0.92       315\n",
      "           1       0.77      0.58      0.66        85\n",
      "\n",
      "    accuracy                           0.87       400\n",
      "   macro avg       0.83      0.76      0.79       400\n",
      "weighted avg       0.87      0.87      0.87       400\n",
      "\n"
     ]
    }
   ],
   "source": [
    "print(classification_report(y_train,nb_model.predict_proba(x_train_one_hot).argmax(axis=1)))"
   ]
  },
  {
   "cell_type": "code",
   "execution_count": 67,
   "id": "e64b208f",
   "metadata": {},
   "outputs": [
    {
     "name": "stdout",
     "output_type": "stream",
     "text": [
      "              precision    recall  f1-score   support\n",
      "\n",
      "           0       0.85      0.95      0.90       236\n",
      "           1       0.67      0.38      0.48        64\n",
      "\n",
      "    accuracy                           0.83       300\n",
      "   macro avg       0.76      0.66      0.69       300\n",
      "weighted avg       0.81      0.83      0.81       300\n",
      "\n"
     ]
    }
   ],
   "source": [
    "print(classification_report(y_val,nb_model.predict_proba(x_val_one_hot).argmax(axis=1)))"
   ]
  },
  {
   "cell_type": "code",
   "execution_count": 17,
   "id": "eabedcf8",
   "metadata": {},
   "outputs": [
    {
     "data": {
      "text/plain": [
       "array([[224,  12],\n",
       "       [ 40,  24]])"
      ]
     },
     "execution_count": 17,
     "metadata": {},
     "output_type": "execute_result"
    }
   ],
   "source": [
    "confusion_matrix(y_val,nb_model.predict_proba(x_val_one_hot).argmax(axis=1))"
   ]
  },
  {
   "cell_type": "markdown",
   "id": "224ecd0e",
   "metadata": {},
   "source": [
    "## DecisionTree Model "
   ]
  },
  {
   "cell_type": "code",
   "execution_count": 62,
   "id": "6a60371d",
   "metadata": {},
   "outputs": [],
   "source": [
    "clf = DecisionTreeClassifier(max_depth =3, random_state = 42)"
   ]
  },
  {
   "cell_type": "code",
   "execution_count": 63,
   "id": "456c18d8",
   "metadata": {},
   "outputs": [
    {
     "data": {
      "text/html": [
       "<style>#sk-container-id-14 {color: black;background-color: white;}#sk-container-id-14 pre{padding: 0;}#sk-container-id-14 div.sk-toggleable {background-color: white;}#sk-container-id-14 label.sk-toggleable__label {cursor: pointer;display: block;width: 100%;margin-bottom: 0;padding: 0.3em;box-sizing: border-box;text-align: center;}#sk-container-id-14 label.sk-toggleable__label-arrow:before {content: \"▸\";float: left;margin-right: 0.25em;color: #696969;}#sk-container-id-14 label.sk-toggleable__label-arrow:hover:before {color: black;}#sk-container-id-14 div.sk-estimator:hover label.sk-toggleable__label-arrow:before {color: black;}#sk-container-id-14 div.sk-toggleable__content {max-height: 0;max-width: 0;overflow: hidden;text-align: left;background-color: #f0f8ff;}#sk-container-id-14 div.sk-toggleable__content pre {margin: 0.2em;color: black;border-radius: 0.25em;background-color: #f0f8ff;}#sk-container-id-14 input.sk-toggleable__control:checked~div.sk-toggleable__content {max-height: 200px;max-width: 100%;overflow: auto;}#sk-container-id-14 input.sk-toggleable__control:checked~label.sk-toggleable__label-arrow:before {content: \"▾\";}#sk-container-id-14 div.sk-estimator input.sk-toggleable__control:checked~label.sk-toggleable__label {background-color: #d4ebff;}#sk-container-id-14 div.sk-label input.sk-toggleable__control:checked~label.sk-toggleable__label {background-color: #d4ebff;}#sk-container-id-14 input.sk-hidden--visually {border: 0;clip: rect(1px 1px 1px 1px);clip: rect(1px, 1px, 1px, 1px);height: 1px;margin: -1px;overflow: hidden;padding: 0;position: absolute;width: 1px;}#sk-container-id-14 div.sk-estimator {font-family: monospace;background-color: #f0f8ff;border: 1px dotted black;border-radius: 0.25em;box-sizing: border-box;margin-bottom: 0.5em;}#sk-container-id-14 div.sk-estimator:hover {background-color: #d4ebff;}#sk-container-id-14 div.sk-parallel-item::after {content: \"\";width: 100%;border-bottom: 1px solid gray;flex-grow: 1;}#sk-container-id-14 div.sk-label:hover label.sk-toggleable__label {background-color: #d4ebff;}#sk-container-id-14 div.sk-serial::before {content: \"\";position: absolute;border-left: 1px solid gray;box-sizing: border-box;top: 0;bottom: 0;left: 50%;z-index: 0;}#sk-container-id-14 div.sk-serial {display: flex;flex-direction: column;align-items: center;background-color: white;padding-right: 0.2em;padding-left: 0.2em;position: relative;}#sk-container-id-14 div.sk-item {position: relative;z-index: 1;}#sk-container-id-14 div.sk-parallel {display: flex;align-items: stretch;justify-content: center;background-color: white;position: relative;}#sk-container-id-14 div.sk-item::before, #sk-container-id-14 div.sk-parallel-item::before {content: \"\";position: absolute;border-left: 1px solid gray;box-sizing: border-box;top: 0;bottom: 0;left: 50%;z-index: -1;}#sk-container-id-14 div.sk-parallel-item {display: flex;flex-direction: column;z-index: 1;position: relative;background-color: white;}#sk-container-id-14 div.sk-parallel-item:first-child::after {align-self: flex-end;width: 50%;}#sk-container-id-14 div.sk-parallel-item:last-child::after {align-self: flex-start;width: 50%;}#sk-container-id-14 div.sk-parallel-item:only-child::after {width: 0;}#sk-container-id-14 div.sk-dashed-wrapped {border: 1px dashed gray;margin: 0 0.4em 0.5em 0.4em;box-sizing: border-box;padding-bottom: 0.4em;background-color: white;}#sk-container-id-14 div.sk-label label {font-family: monospace;font-weight: bold;display: inline-block;line-height: 1.2em;}#sk-container-id-14 div.sk-label-container {text-align: center;}#sk-container-id-14 div.sk-container {/* jupyter's `normalize.less` sets `[hidden] { display: none; }` but bootstrap.min.css set `[hidden] { display: none !important; }` so we also need the `!important` here to be able to override the default hidden behavior on the sphinx rendered scikit-learn.org. See: https://github.com/scikit-learn/scikit-learn/issues/21755 */display: inline-block !important;position: relative;}#sk-container-id-14 div.sk-text-repr-fallback {display: none;}</style><div id=\"sk-container-id-14\" class=\"sk-top-container\"><div class=\"sk-text-repr-fallback\"><pre>DecisionTreeClassifier(max_depth=3, random_state=42)</pre><b>In a Jupyter environment, please rerun this cell to show the HTML representation or trust the notebook. <br />On GitHub, the HTML representation is unable to render, please try loading this page with nbviewer.org.</b></div><div class=\"sk-container\" hidden><div class=\"sk-item\"><div class=\"sk-estimator sk-toggleable\"><input class=\"sk-toggleable__control sk-hidden--visually\" id=\"sk-estimator-id-14\" type=\"checkbox\" checked><label for=\"sk-estimator-id-14\" class=\"sk-toggleable__label sk-toggleable__label-arrow\">DecisionTreeClassifier</label><div class=\"sk-toggleable__content\"><pre>DecisionTreeClassifier(max_depth=3, random_state=42)</pre></div></div></div></div></div>"
      ],
      "text/plain": [
       "DecisionTreeClassifier(max_depth=3, random_state=42)"
      ]
     },
     "execution_count": 63,
     "metadata": {},
     "output_type": "execute_result"
    }
   ],
   "source": [
    "clf.fit(x_train_one_hot,y_train)"
   ]
  },
  {
   "cell_type": "code",
   "execution_count": 64,
   "id": "88fa52a4",
   "metadata": {},
   "outputs": [
    {
     "name": "stdout",
     "output_type": "stream",
     "text": [
      "              precision    recall  f1-score   support\n",
      "\n",
      "           0       0.87      0.97      0.92       315\n",
      "           1       0.80      0.48      0.60        85\n",
      "\n",
      "    accuracy                           0.86       400\n",
      "   macro avg       0.84      0.73      0.76       400\n",
      "weighted avg       0.86      0.86      0.85       400\n",
      "\n"
     ]
    }
   ],
   "source": [
    "print(classification_report(y_train,clf.predict_proba(x_train_one_hot).argmax(axis=1)))"
   ]
  },
  {
   "cell_type": "code",
   "execution_count": 65,
   "id": "8fa07097",
   "metadata": {},
   "outputs": [
    {
     "name": "stdout",
     "output_type": "stream",
     "text": [
      "              precision    recall  f1-score   support\n",
      "\n",
      "           0       0.84      0.99      0.91       236\n",
      "           1       0.86      0.30      0.44        64\n",
      "\n",
      "    accuracy                           0.84       300\n",
      "   macro avg       0.85      0.64      0.67       300\n",
      "weighted avg       0.84      0.84      0.81       300\n",
      "\n"
     ]
    }
   ],
   "source": [
    "print(classification_report(y_val,clf.predict_proba(x_val_one_hot).argmax(axis=1)))"
   ]
  },
  {
   "cell_type": "code",
   "execution_count": 21,
   "id": "7010f18c",
   "metadata": {},
   "outputs": [
    {
     "data": {
      "text/plain": [
       "array([[233,   3],\n",
       "       [ 45,  19]])"
      ]
     },
     "execution_count": 21,
     "metadata": {},
     "output_type": "execute_result"
    }
   ],
   "source": [
    "confusion_matrix(y_val,clf.predict_proba(x_val_one_hot).argmax(axis=1))"
   ]
  },
  {
   "cell_type": "markdown",
   "id": "dd7d646b",
   "metadata": {},
   "source": [
    "## DeepLearning Model"
   ]
  },
  {
   "cell_type": "code",
   "execution_count": 142,
   "id": "77bc64e8",
   "metadata": {},
   "outputs": [],
   "source": [
    "\n",
    "class DL_Model(nn.Module):\n",
    "    \n",
    "    def __init__(self,in_features):\n",
    "        \n",
    "        super().__init__()\n",
    "        self.classifier = nn.Sequential(\n",
    "        \n",
    "            nn.Linear(in_features,in_features*2),\n",
    "            nn.GELU(),\n",
    "            nn.Dropout(.25),    \n",
    "            nn.Linear(in_features*2,in_features*2),\n",
    "            nn.GELU(),\n",
    "            nn.Dropout(.25),\n",
    "            nn.Linear(in_features*2,2),\n",
    "                    \n",
    "        )\n",
    "        \n",
    "    def forward(self,x):\n",
    "        return self.classifier(x)\n",
    "        \n",
    "    "
   ]
  },
  {
   "cell_type": "code",
   "execution_count": 143,
   "id": "8bc08d8b",
   "metadata": {},
   "outputs": [],
   "source": [
    "class Dataset():\n",
    "    \n",
    "    def __init__(self,x,y):\n",
    "        self.x = x\n",
    "        self.y = y\n",
    "        \n",
    "    def __len__(self,):\n",
    "        return len(self.x)\n",
    "    \n",
    "    def __getitem__(self,index):\n",
    "        return torch.tensor(self.x[index]),torch.tensor(self.y[index])\n",
    "        "
   ]
  },
  {
   "cell_type": "code",
   "execution_count": 144,
   "id": "021082d7",
   "metadata": {},
   "outputs": [],
   "source": [
    "class LabelSmoothingLoss(torch.nn.Module):\n",
    "    def __init__(self, smoothing: float = 0.1, \n",
    "                 reduction=\"mean\", weight=None):\n",
    "        super(LabelSmoothingLoss, self).__init__()\n",
    "        self.smoothing   = smoothing\n",
    "        self.reduction = reduction\n",
    "        self.weight    = weight\n",
    "\n",
    "    def reduce_loss(self, loss):\n",
    "        return loss.mean() if self.reduction == 'mean' else loss.sum() \\\n",
    "         if self.reduction == 'sum' else loss\n",
    "\n",
    "    def linear_combination(self, x, y):\n",
    "        return self.smoothing * x + (1 - self.smoothing) * y\n",
    "\n",
    "    def forward(self, preds, target):\n",
    "        assert 0 <= self.smoothing < 1\n",
    "\n",
    "        if self.weight is not None:\n",
    "            self.weight = self.weight.to(preds.device)\n",
    "\n",
    "        n = preds.size(-1)\n",
    "        log_preds = F.log_softmax(preds, dim=-1)\n",
    "        loss = self.reduce_loss(-log_preds.sum(dim=-1))\n",
    "        nll = F.nll_loss(\n",
    "            log_preds, target, reduction=self.reduction, weight=self.weight\n",
    "        )\n",
    "        return self.linear_combination(loss / n, nll)"
   ]
  },
  {
   "cell_type": "code",
   "execution_count": 145,
   "id": "c58d7841",
   "metadata": {},
   "outputs": [],
   "source": [
    "dl_model = DL_Model(40)\n",
    "\n"
   ]
  },
  {
   "cell_type": "code",
   "execution_count": 146,
   "id": "943d9548",
   "metadata": {},
   "outputs": [],
   "source": [
    "train_dataset = Dataset(x_train_one_hot,y_train)\n",
    "a,b = np.unique(y_train,return_counts=True)\n",
    "weights = compute_class_weight(class_weight='balanced',classes=a,y=y_train)"
   ]
  },
  {
   "cell_type": "code",
   "execution_count": 147,
   "id": "f53ae810",
   "metadata": {},
   "outputs": [],
   "source": [
    "optim = torch.optim.Adam(dl_model.parameters(),lr = 0.0001)\n",
    "loss_fn = LabelSmoothingLoss(.18,weight=torch.tensor(weights,dtype=torch.float32))\n",
    "train_dataloader = torch.utils.data.DataLoader(train_dataset,batch_size=16,shuffle = True)"
   ]
  },
  {
   "cell_type": "code",
   "execution_count": 148,
   "id": "848f0f2e",
   "metadata": {},
   "outputs": [],
   "source": [
    "for x in dl_model.children():\n",
    "    for a in x:\n",
    "        if type(a) == nn.modules.linear.Linear:\n",
    "            nn.init.xavier_uniform_(a.weight)\n",
    "            "
   ]
  },
  {
   "cell_type": "code",
   "execution_count": 149,
   "id": "954b0e9d",
   "metadata": {},
   "outputs": [
    {
     "name": "stderr",
     "output_type": "stream",
     "text": [
      "100%|█████████████████████████████████████████| 200/200 [00:08<00:00, 23.20it/s]\n"
     ]
    }
   ],
   "source": [
    "dl_model.train()\n",
    "for i in tqdm(range(200)):\n",
    "    for x,y in train_dataloader:\n",
    "\n",
    "        optim.zero_grad()\n",
    "\n",
    "        outs = dl_model(x)\n",
    "        loss = loss_fn(outs,y)\n",
    "\n",
    "        loss.backward()\n",
    "        optim.step()\n"
   ]
  },
  {
   "cell_type": "code",
   "execution_count": 150,
   "id": "a586babd",
   "metadata": {},
   "outputs": [
    {
     "name": "stdout",
     "output_type": "stream",
     "text": [
      "              precision    recall  f1-score   support\n",
      "\n",
      "           0       0.89      0.82      0.85       240\n",
      "           1       0.45      0.60      0.51        60\n",
      "\n",
      "    accuracy                           0.77       300\n",
      "   macro avg       0.67      0.71      0.68       300\n",
      "weighted avg       0.80      0.77      0.78       300\n",
      "\n"
     ]
    }
   ],
   "source": [
    "dl_model.eval()\n",
    "with torch.no_grad():\n",
    "    preds = dl_model(x_val_one_hot)\n",
    "print(classification_report(y_val,preds.argmax(axis=1)))"
   ]
  },
  {
   "cell_type": "code",
   "execution_count": 151,
   "id": "a250f6f3",
   "metadata": {},
   "outputs": [
    {
     "data": {
      "text/plain": [
       "array([[196,  44],\n",
       "       [ 24,  36]])"
      ]
     },
     "execution_count": 151,
     "metadata": {},
     "output_type": "execute_result"
    }
   ],
   "source": [
    "confusion_matrix(y_val,preds.argmax(axis=1))"
   ]
  },
  {
   "cell_type": "markdown",
   "id": "a7a2c0bf",
   "metadata": {},
   "source": [
    "## KNN Model"
   ]
  },
  {
   "cell_type": "code",
   "execution_count": 69,
   "id": "5304dac7",
   "metadata": {},
   "outputs": [
    {
     "data": {
      "text/html": [
       "<style>#sk-container-id-15 {color: black;background-color: white;}#sk-container-id-15 pre{padding: 0;}#sk-container-id-15 div.sk-toggleable {background-color: white;}#sk-container-id-15 label.sk-toggleable__label {cursor: pointer;display: block;width: 100%;margin-bottom: 0;padding: 0.3em;box-sizing: border-box;text-align: center;}#sk-container-id-15 label.sk-toggleable__label-arrow:before {content: \"▸\";float: left;margin-right: 0.25em;color: #696969;}#sk-container-id-15 label.sk-toggleable__label-arrow:hover:before {color: black;}#sk-container-id-15 div.sk-estimator:hover label.sk-toggleable__label-arrow:before {color: black;}#sk-container-id-15 div.sk-toggleable__content {max-height: 0;max-width: 0;overflow: hidden;text-align: left;background-color: #f0f8ff;}#sk-container-id-15 div.sk-toggleable__content pre {margin: 0.2em;color: black;border-radius: 0.25em;background-color: #f0f8ff;}#sk-container-id-15 input.sk-toggleable__control:checked~div.sk-toggleable__content {max-height: 200px;max-width: 100%;overflow: auto;}#sk-container-id-15 input.sk-toggleable__control:checked~label.sk-toggleable__label-arrow:before {content: \"▾\";}#sk-container-id-15 div.sk-estimator input.sk-toggleable__control:checked~label.sk-toggleable__label {background-color: #d4ebff;}#sk-container-id-15 div.sk-label input.sk-toggleable__control:checked~label.sk-toggleable__label {background-color: #d4ebff;}#sk-container-id-15 input.sk-hidden--visually {border: 0;clip: rect(1px 1px 1px 1px);clip: rect(1px, 1px, 1px, 1px);height: 1px;margin: -1px;overflow: hidden;padding: 0;position: absolute;width: 1px;}#sk-container-id-15 div.sk-estimator {font-family: monospace;background-color: #f0f8ff;border: 1px dotted black;border-radius: 0.25em;box-sizing: border-box;margin-bottom: 0.5em;}#sk-container-id-15 div.sk-estimator:hover {background-color: #d4ebff;}#sk-container-id-15 div.sk-parallel-item::after {content: \"\";width: 100%;border-bottom: 1px solid gray;flex-grow: 1;}#sk-container-id-15 div.sk-label:hover label.sk-toggleable__label {background-color: #d4ebff;}#sk-container-id-15 div.sk-serial::before {content: \"\";position: absolute;border-left: 1px solid gray;box-sizing: border-box;top: 0;bottom: 0;left: 50%;z-index: 0;}#sk-container-id-15 div.sk-serial {display: flex;flex-direction: column;align-items: center;background-color: white;padding-right: 0.2em;padding-left: 0.2em;position: relative;}#sk-container-id-15 div.sk-item {position: relative;z-index: 1;}#sk-container-id-15 div.sk-parallel {display: flex;align-items: stretch;justify-content: center;background-color: white;position: relative;}#sk-container-id-15 div.sk-item::before, #sk-container-id-15 div.sk-parallel-item::before {content: \"\";position: absolute;border-left: 1px solid gray;box-sizing: border-box;top: 0;bottom: 0;left: 50%;z-index: -1;}#sk-container-id-15 div.sk-parallel-item {display: flex;flex-direction: column;z-index: 1;position: relative;background-color: white;}#sk-container-id-15 div.sk-parallel-item:first-child::after {align-self: flex-end;width: 50%;}#sk-container-id-15 div.sk-parallel-item:last-child::after {align-self: flex-start;width: 50%;}#sk-container-id-15 div.sk-parallel-item:only-child::after {width: 0;}#sk-container-id-15 div.sk-dashed-wrapped {border: 1px dashed gray;margin: 0 0.4em 0.5em 0.4em;box-sizing: border-box;padding-bottom: 0.4em;background-color: white;}#sk-container-id-15 div.sk-label label {font-family: monospace;font-weight: bold;display: inline-block;line-height: 1.2em;}#sk-container-id-15 div.sk-label-container {text-align: center;}#sk-container-id-15 div.sk-container {/* jupyter's `normalize.less` sets `[hidden] { display: none; }` but bootstrap.min.css set `[hidden] { display: none !important; }` so we also need the `!important` here to be able to override the default hidden behavior on the sphinx rendered scikit-learn.org. See: https://github.com/scikit-learn/scikit-learn/issues/21755 */display: inline-block !important;position: relative;}#sk-container-id-15 div.sk-text-repr-fallback {display: none;}</style><div id=\"sk-container-id-15\" class=\"sk-top-container\"><div class=\"sk-text-repr-fallback\"><pre>KNeighborsClassifier(n_neighbors=3)</pre><b>In a Jupyter environment, please rerun this cell to show the HTML representation or trust the notebook. <br />On GitHub, the HTML representation is unable to render, please try loading this page with nbviewer.org.</b></div><div class=\"sk-container\" hidden><div class=\"sk-item\"><div class=\"sk-estimator sk-toggleable\"><input class=\"sk-toggleable__control sk-hidden--visually\" id=\"sk-estimator-id-15\" type=\"checkbox\" checked><label for=\"sk-estimator-id-15\" class=\"sk-toggleable__label sk-toggleable__label-arrow\">KNeighborsClassifier</label><div class=\"sk-toggleable__content\"><pre>KNeighborsClassifier(n_neighbors=3)</pre></div></div></div></div></div>"
      ],
      "text/plain": [
       "KNeighborsClassifier(n_neighbors=3)"
      ]
     },
     "execution_count": 69,
     "metadata": {},
     "output_type": "execute_result"
    }
   ],
   "source": [
    "knn = KNeighborsClassifier(n_neighbors=3)\n",
    "  \n",
    "knn.fit(x_train_one_hot, y_train)\n",
    "  \n"
   ]
  },
  {
   "cell_type": "code",
   "execution_count": 70,
   "id": "763bdbe9",
   "metadata": {},
   "outputs": [
    {
     "name": "stdout",
     "output_type": "stream",
     "text": [
      "              precision    recall  f1-score   support\n",
      "\n",
      "           0       0.89      0.98      0.94       315\n",
      "           1       0.91      0.56      0.70        85\n",
      "\n",
      "    accuracy                           0.90       400\n",
      "   macro avg       0.90      0.77      0.82       400\n",
      "weighted avg       0.90      0.90      0.89       400\n",
      "\n"
     ]
    }
   ],
   "source": [
    "print(classification_report(y_train,knn.predict_proba(x_train_one_hot).argmax(axis=1)))"
   ]
  },
  {
   "cell_type": "code",
   "execution_count": 71,
   "id": "c783d3c6",
   "metadata": {},
   "outputs": [
    {
     "name": "stdout",
     "output_type": "stream",
     "text": [
      "              precision    recall  f1-score   support\n",
      "\n",
      "           0       0.83      0.92      0.87       236\n",
      "           1       0.49      0.28      0.36        64\n",
      "\n",
      "    accuracy                           0.78       300\n",
      "   macro avg       0.66      0.60      0.61       300\n",
      "weighted avg       0.75      0.78      0.76       300\n",
      "\n"
     ]
    }
   ],
   "source": [
    "print(classification_report(y_val,knn.predict_proba(x_val_one_hot).argmax(axis=1)))"
   ]
  },
  {
   "cell_type": "code",
   "execution_count": 72,
   "id": "9a80f3db",
   "metadata": {},
   "outputs": [
    {
     "data": {
      "text/plain": [
       "array([[217,  19],\n",
       "       [ 46,  18]])"
      ]
     },
     "execution_count": 72,
     "metadata": {},
     "output_type": "execute_result"
    }
   ],
   "source": [
    "confusion_matrix(y_val,knn.predict_proba(x_val_one_hot).argmax(axis=1))"
   ]
  },
  {
   "cell_type": "markdown",
   "id": "30e861ef",
   "metadata": {},
   "source": [
    "# Testing"
   ]
  },
  {
   "cell_type": "code",
   "execution_count": 155,
   "id": "9c401163",
   "metadata": {},
   "outputs": [],
   "source": [
    "x_test,y_test = test_dataset[:,:-1],test_dataset[:,-1]"
   ]
  },
  {
   "cell_type": "code",
   "execution_count": 156,
   "id": "4ffa5e39",
   "metadata": {},
   "outputs": [],
   "source": [
    "x_test_one_hot = categorizer(x_test,)"
   ]
  },
  {
   "cell_type": "markdown",
   "id": "d1839d17",
   "metadata": {},
   "source": [
    "## Naive Bayes Results"
   ]
  },
  {
   "cell_type": "code",
   "execution_count": 157,
   "id": "b8ca675b",
   "metadata": {},
   "outputs": [
    {
     "name": "stdout",
     "output_type": "stream",
     "text": [
      "              precision    recall  f1-score   support\n",
      "\n",
      "           0       0.89      0.99      0.93       240\n",
      "           1       0.91      0.50      0.65        60\n",
      "\n",
      "    accuracy                           0.89       300\n",
      "   macro avg       0.90      0.74      0.79       300\n",
      "weighted avg       0.89      0.89      0.88       300\n",
      "\n"
     ]
    }
   ],
   "source": [
    "print(classification_report(y_test,nb_model.predict_proba(x_test_one_hot).argmax(axis=1)))"
   ]
  },
  {
   "cell_type": "code",
   "execution_count": 158,
   "id": "d1d97fc4",
   "metadata": {},
   "outputs": [
    {
     "data": {
      "text/plain": [
       "array([[237,   3],\n",
       "       [ 30,  30]])"
      ]
     },
     "execution_count": 158,
     "metadata": {},
     "output_type": "execute_result"
    }
   ],
   "source": [
    "confusion_matrix(y_test,nb_model.predict_proba(x_test_one_hot).argmax(axis=1))"
   ]
  },
  {
   "cell_type": "markdown",
   "id": "6c2c6814",
   "metadata": {},
   "source": [
    "## DecisionTree Results"
   ]
  },
  {
   "cell_type": "code",
   "execution_count": 159,
   "id": "d8b77c61",
   "metadata": {},
   "outputs": [
    {
     "name": "stdout",
     "output_type": "stream",
     "text": [
      "              precision    recall  f1-score   support\n",
      "\n",
      "           0       0.84      0.99      0.91       240\n",
      "           1       0.88      0.23      0.37        60\n",
      "\n",
      "    accuracy                           0.84       300\n",
      "   macro avg       0.86      0.61      0.64       300\n",
      "weighted avg       0.85      0.84      0.80       300\n",
      "\n"
     ]
    }
   ],
   "source": [
    "print(classification_report(y_test,clf.predict_proba(x_test_one_hot).argmax(axis=1)))\n"
   ]
  },
  {
   "cell_type": "code",
   "execution_count": 160,
   "id": "18b54f3e",
   "metadata": {},
   "outputs": [
    {
     "data": {
      "text/plain": [
       "array([[238,   2],\n",
       "       [ 46,  14]])"
      ]
     },
     "execution_count": 160,
     "metadata": {},
     "output_type": "execute_result"
    }
   ],
   "source": [
    "confusion_matrix(y_test,clf.predict_proba(x_test_one_hot).argmax(axis=1))"
   ]
  },
  {
   "cell_type": "markdown",
   "id": "346a2748",
   "metadata": {},
   "source": [
    "## DeepLearning Results"
   ]
  },
  {
   "cell_type": "code",
   "execution_count": 161,
   "id": "5e58d659",
   "metadata": {},
   "outputs": [
    {
     "name": "stdout",
     "output_type": "stream",
     "text": [
      "              precision    recall  f1-score   support\n",
      "\n",
      "           0       0.94      0.85      0.89       240\n",
      "           1       0.57      0.80      0.67        60\n",
      "\n",
      "    accuracy                           0.84       300\n",
      "   macro avg       0.76      0.82      0.78       300\n",
      "weighted avg       0.87      0.84      0.85       300\n",
      "\n"
     ]
    }
   ],
   "source": [
    "dl_model.eval()\n",
    "with torch.no_grad():\n",
    "    preds = dl_model(x_test_one_hot)\n",
    "print(classification_report(y_test,preds.argmax(axis=1)))"
   ]
  },
  {
   "cell_type": "code",
   "execution_count": 162,
   "id": "118c743b",
   "metadata": {},
   "outputs": [
    {
     "data": {
      "text/plain": [
       "array([[175,  65],\n",
       "       [ 41,  19]])"
      ]
     },
     "execution_count": 162,
     "metadata": {},
     "output_type": "execute_result"
    }
   ],
   "source": [
    "confusion_matrix(y_val,preds.argmax(axis=1))"
   ]
  },
  {
   "cell_type": "markdown",
   "id": "510a8ade",
   "metadata": {},
   "source": [
    "## KNN Results"
   ]
  },
  {
   "cell_type": "code",
   "execution_count": 163,
   "id": "2f1390eb",
   "metadata": {},
   "outputs": [
    {
     "name": "stdout",
     "output_type": "stream",
     "text": [
      "              precision    recall  f1-score   support\n",
      "\n",
      "           0       0.84      0.97      0.90       240\n",
      "           1       0.65      0.25      0.36        60\n",
      "\n",
      "    accuracy                           0.82       300\n",
      "   macro avg       0.74      0.61      0.63       300\n",
      "weighted avg       0.80      0.82      0.79       300\n",
      "\n"
     ]
    }
   ],
   "source": [
    "print(classification_report(y_test,knn.predict_proba(x_test_one_hot).argmax(axis=1)))"
   ]
  },
  {
   "cell_type": "code",
   "execution_count": 164,
   "id": "ca9a6dc0",
   "metadata": {},
   "outputs": [
    {
     "data": {
      "text/plain": [
       "array([[226,  14],\n",
       "       [ 51,   9]])"
      ]
     },
     "execution_count": 164,
     "metadata": {},
     "output_type": "execute_result"
    }
   ],
   "source": [
    "confusion_matrix(y_val,knn.predict_proba(x_val_one_hot).argmax(axis=1))"
   ]
  },
  {
   "cell_type": "code",
   "execution_count": null,
   "id": "71932c0c",
   "metadata": {},
   "outputs": [],
   "source": []
  }
 ],
 "metadata": {
  "kernelspec": {
   "display_name": "Python 3 (ipykernel)",
   "language": "python",
   "name": "python3"
  },
  "language_info": {
   "codemirror_mode": {
    "name": "ipython",
    "version": 3
   },
   "file_extension": ".py",
   "mimetype": "text/x-python",
   "name": "python",
   "nbconvert_exporter": "python",
   "pygments_lexer": "ipython3",
   "version": "3.9.7"
  }
 },
 "nbformat": 4,
 "nbformat_minor": 5
}
